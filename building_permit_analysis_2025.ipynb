{
 "cells": [
  {
   "cell_type": "markdown",
   "id": "eab6510b-584b-409e-8e62-c3c6f5787825",
   "metadata": {},
   "source": [
    "# 🏗️ Building Permit Analysis - March 2025\n",
    "\n",
    "This analysis uses data from the U.S. Census Bureau to explore the number of residential building permits issued in each U.S. state in March 2025.\n",
    "\n",
    "### Goals:\n",
    "- Identify top and bottom performing states\n",
    "- Visualize permit trends\n",
    "- Calculate each state's share of total permits\n"
   ]
  },
  {
   "cell_type": "code",
   "execution_count": 2,
   "id": "6c482482-8c2e-45a8-9772-06edba4b1aa4",
   "metadata": {},
   "outputs": [
    {
     "name": "stdout",
     "output_type": "stream",
     "text": [
      "Requirement already satisfied: xlrd in c:\\users\\abise\\anaconda3\\envs\\lightbox-env\\lib\\site-packages (2.0.1)\n"
     ]
    }
   ],
   "source": [
    "!pip install xlrd"
   ]
  },
  {
   "cell_type": "code",
   "execution_count": 4,
   "id": "594e3f24-b013-470f-9ecf-c7da472fd5ea",
   "metadata": {},
   "outputs": [
    {
     "data": {
      "text/html": [
       "<div>\n",
       "<style scoped>\n",
       "    .dataframe tbody tr th:only-of-type {\n",
       "        vertical-align: middle;\n",
       "    }\n",
       "\n",
       "    .dataframe tbody tr th {\n",
       "        vertical-align: top;\n",
       "    }\n",
       "\n",
       "    .dataframe thead th {\n",
       "        text-align: right;\n",
       "    }\n",
       "</style>\n",
       "<table border=\"1\" class=\"dataframe\">\n",
       "  <thead>\n",
       "    <tr style=\"text-align: right;\">\n",
       "      <th></th>\n",
       "      <th>State</th>\n",
       "      <th>Total</th>\n",
       "      <th>Share_%</th>\n",
       "    </tr>\n",
       "  </thead>\n",
       "  <tbody>\n",
       "    <tr>\n",
       "      <th>2</th>\n",
       "      <td>Connecticut</td>\n",
       "      <td>27.0</td>\n",
       "      <td>0.633060</td>\n",
       "    </tr>\n",
       "    <tr>\n",
       "      <th>3</th>\n",
       "      <td>Maine</td>\n",
       "      <td>28.0</td>\n",
       "      <td>0.656506</td>\n",
       "    </tr>\n",
       "    <tr>\n",
       "      <th>4</th>\n",
       "      <td>Massachusetts</td>\n",
       "      <td>106.0</td>\n",
       "      <td>2.485346</td>\n",
       "    </tr>\n",
       "    <tr>\n",
       "      <th>5</th>\n",
       "      <td>New Hampshire</td>\n",
       "      <td>13.0</td>\n",
       "      <td>0.304807</td>\n",
       "    </tr>\n",
       "    <tr>\n",
       "      <th>6</th>\n",
       "      <td>Rhode Island</td>\n",
       "      <td>4.0</td>\n",
       "      <td>0.093787</td>\n",
       "    </tr>\n",
       "  </tbody>\n",
       "</table>\n",
       "</div>"
      ],
      "text/plain": [
       "                                      State  Total   Share_%\n",
       "2            Connecticut                      27.0  0.633060\n",
       "3            Maine                            28.0  0.656506\n",
       "4            Massachusetts                   106.0  2.485346\n",
       "5            New Hampshire                    13.0  0.304807\n",
       "6            Rhode Island                      4.0  0.093787"
      ]
     },
     "execution_count": 4,
     "metadata": {},
     "output_type": "execute_result"
    }
   ],
   "source": [
    "import pandas as pd\n",
    "import matplotlib.pyplot as plt\n",
    "\n",
    "# Load Excel file (old .xls format) and skip metadata rows\n",
    "df = pd.read_excel(\"statemonthly_202503.xls\", skiprows=10)\n",
    "\n",
    "# Select and rename columns\n",
    "df = df[['Unnamed: 0', 'Unnamed: 13']]\n",
    "df.columns = ['State', 'Total']\n",
    "\n",
    "# Clean: remove regional summaries\n",
    "df = df[df['State'].notnull()]\n",
    "df = df[~df['State'].str.contains('Region|Division|United States', na=False)]\n",
    "\n",
    "# Convert to numeric\n",
    "df['Total'] = pd.to_numeric(df['Total'], errors='coerce')\n",
    "df = df.dropna(subset=['Total'])\n",
    "\n",
    "# Add % share column\n",
    "df['Share_%'] = (df['Total'] / df['Total'].sum()) * 100\n",
    "\n",
    "# Preview data\n",
    "df.head()\n"
   ]
  },
  {
   "cell_type": "code",
   "execution_count": 5,
   "id": "7f44b0b9-f3d8-4b86-be20-a669f1da4845",
   "metadata": {},
   "outputs": [
    {
     "name": "stdout",
     "output_type": "stream",
     "text": [
      "🏢 Total permits issued nationwide in March 2025: 4,265\n"
     ]
    }
   ],
   "source": [
    "total_us = df['Total'].sum()\n",
    "print(f\"🏢 Total permits issued nationwide in March 2025: {int(total_us):,}\")\n"
   ]
  },
  {
   "cell_type": "code",
   "execution_count": 6,
   "id": "4232c232-b2b3-4bdd-b0bc-e9b82c78a491",
   "metadata": {},
   "outputs": [
    {
     "data": {
      "text/html": [
       "<div>\n",
       "<style scoped>\n",
       "    .dataframe tbody tr th:only-of-type {\n",
       "        vertical-align: middle;\n",
       "    }\n",
       "\n",
       "    .dataframe tbody tr th {\n",
       "        vertical-align: top;\n",
       "    }\n",
       "\n",
       "    .dataframe thead th {\n",
       "        text-align: right;\n",
       "    }\n",
       "</style>\n",
       "<table border=\"1\" class=\"dataframe\">\n",
       "  <thead>\n",
       "    <tr style=\"text-align: right;\">\n",
       "      <th></th>\n",
       "      <th>State</th>\n",
       "      <th>Total</th>\n",
       "      <th>Share_%</th>\n",
       "    </tr>\n",
       "  </thead>\n",
       "  <tbody>\n",
       "    <tr>\n",
       "      <th>35</th>\n",
       "      <td>Florida</td>\n",
       "      <td>547.0</td>\n",
       "      <td>12.825322</td>\n",
       "    </tr>\n",
       "    <tr>\n",
       "      <th>53</th>\n",
       "      <td>Texas</td>\n",
       "      <td>469.0</td>\n",
       "      <td>10.996483</td>\n",
       "    </tr>\n",
       "    <tr>\n",
       "      <th>68</th>\n",
       "      <td>California</td>\n",
       "      <td>324.0</td>\n",
       "      <td>7.596717</td>\n",
       "    </tr>\n",
       "    <tr>\n",
       "      <th>10</th>\n",
       "      <td>New Jersey</td>\n",
       "      <td>261.0</td>\n",
       "      <td>6.119578</td>\n",
       "    </tr>\n",
       "    <tr>\n",
       "      <th>36</th>\n",
       "      <td>Georgia</td>\n",
       "      <td>245.0</td>\n",
       "      <td>5.744431</td>\n",
       "    </tr>\n",
       "    <tr>\n",
       "      <th>38</th>\n",
       "      <td>North Carolina</td>\n",
       "      <td>189.0</td>\n",
       "      <td>4.431419</td>\n",
       "    </tr>\n",
       "    <tr>\n",
       "      <th>47</th>\n",
       "      <td>Tennessee</td>\n",
       "      <td>150.0</td>\n",
       "      <td>3.516999</td>\n",
       "    </tr>\n",
       "    <tr>\n",
       "      <th>11</th>\n",
       "      <td>New York</td>\n",
       "      <td>147.0</td>\n",
       "      <td>3.446659</td>\n",
       "    </tr>\n",
       "    <tr>\n",
       "      <th>19</th>\n",
       "      <td>Ohio</td>\n",
       "      <td>139.0</td>\n",
       "      <td>3.259086</td>\n",
       "    </tr>\n",
       "    <tr>\n",
       "      <th>39</th>\n",
       "      <td>South Carolina</td>\n",
       "      <td>112.0</td>\n",
       "      <td>2.626026</td>\n",
       "    </tr>\n",
       "  </tbody>\n",
       "</table>\n",
       "</div>"
      ],
      "text/plain": [
       "                                       State  Total    Share_%\n",
       "35            Florida                         547.0  12.825322\n",
       "53            Texas                           469.0  10.996483\n",
       "68            California                      324.0   7.596717\n",
       "10            New Jersey                      261.0   6.119578\n",
       "36            Georgia                         245.0   5.744431\n",
       "38            North Carolina                  189.0   4.431419\n",
       "47            Tennessee                       150.0   3.516999\n",
       "11            New York                        147.0   3.446659\n",
       "19            Ohio                            139.0   3.259086\n",
       "39            South Carolina                  112.0   2.626026"
      ]
     },
     "execution_count": 6,
     "metadata": {},
     "output_type": "execute_result"
    }
   ],
   "source": [
    "top_states = df.sort_values(by='Total', ascending=False).head(10)\n",
    "top_states\n"
   ]
  },
  {
   "cell_type": "code",
   "execution_count": 7,
   "id": "6c5e548b-b417-41f1-9b80-8f4b0d5267fd",
   "metadata": {},
   "outputs": [
    {
     "data": {
      "image/png": "[encoded data removed]",
      "text/plain": [
       "<Figure size 1000x600 with 1 Axes>"
      ]
     },
     "metadata": {},
     "output_type": "display_data"
    }
   ],
   "source": [
    "plt.figure(figsize=(10, 6))\n",
    "plt.bar(top_states['State'], top_states['Total'])\n",
    "plt.title(\"Top 10 States by Building Permits (March 2025)\")\n",
    "plt.xlabel(\"State\")\n",
    "plt.ylabel(\"Units Permitted\")\n",
    "plt.xticks(rotation=45)\n",
    "plt.tight_layout()\n",
    "plt.show()\n"
   ]
  },
  {
   "cell_type": "code",
   "execution_count": 8,
   "id": "5f87bc0b-dc0a-4cb0-9845-69f8b4969c9f",
   "metadata": {},
   "outputs": [
    {
     "data": {
      "text/html": [
       "<div>\n",
       "<style scoped>\n",
       "    .dataframe tbody tr th:only-of-type {\n",
       "        vertical-align: middle;\n",
       "    }\n",
       "\n",
       "    .dataframe tbody tr th {\n",
       "        vertical-align: top;\n",
       "    }\n",
       "\n",
       "    .dataframe thead th {\n",
       "        text-align: right;\n",
       "    }\n",
       "</style>\n",
       "<table border=\"1\" class=\"dataframe\">\n",
       "  <thead>\n",
       "    <tr style=\"text-align: right;\">\n",
       "      <th></th>\n",
       "      <th>State</th>\n",
       "      <th>Total</th>\n",
       "      <th>Share_%</th>\n",
       "    </tr>\n",
       "  </thead>\n",
       "  <tbody>\n",
       "    <tr>\n",
       "      <th>64</th>\n",
       "      <td>Wyoming</td>\n",
       "      <td>1.0</td>\n",
       "      <td>0.023447</td>\n",
       "    </tr>\n",
       "    <tr>\n",
       "      <th>28</th>\n",
       "      <td>North Dakota</td>\n",
       "      <td>2.0</td>\n",
       "      <td>0.046893</td>\n",
       "    </tr>\n",
       "    <tr>\n",
       "      <th>67</th>\n",
       "      <td>Alaska</td>\n",
       "      <td>3.0</td>\n",
       "      <td>0.070340</td>\n",
       "    </tr>\n",
       "    <tr>\n",
       "      <th>6</th>\n",
       "      <td>Rhode Island</td>\n",
       "      <td>4.0</td>\n",
       "      <td>0.093787</td>\n",
       "    </tr>\n",
       "    <tr>\n",
       "      <th>34</th>\n",
       "      <td>District of Columbia</td>\n",
       "      <td>4.0</td>\n",
       "      <td>0.093787</td>\n",
       "    </tr>\n",
       "    <tr>\n",
       "      <th>69</th>\n",
       "      <td>Hawaii</td>\n",
       "      <td>5.0</td>\n",
       "      <td>0.117233</td>\n",
       "    </tr>\n",
       "    <tr>\n",
       "      <th>41</th>\n",
       "      <td>West Virginia</td>\n",
       "      <td>7.0</td>\n",
       "      <td>0.164127</td>\n",
       "    </tr>\n",
       "    <tr>\n",
       "      <th>7</th>\n",
       "      <td>Vermont</td>\n",
       "      <td>8.0</td>\n",
       "      <td>0.187573</td>\n",
       "    </tr>\n",
       "    <tr>\n",
       "      <th>51</th>\n",
       "      <td>Louisiana</td>\n",
       "      <td>8.0</td>\n",
       "      <td>0.187573</td>\n",
       "    </tr>\n",
       "    <tr>\n",
       "      <th>62</th>\n",
       "      <td>New Mexico</td>\n",
       "      <td>9.0</td>\n",
       "      <td>0.211020</td>\n",
       "    </tr>\n",
       "  </tbody>\n",
       "</table>\n",
       "</div>"
      ],
      "text/plain": [
       "                                       State  Total   Share_%\n",
       "64            Wyoming                           1.0  0.023447\n",
       "28            North Dakota                      2.0  0.046893\n",
       "67            Alaska                            3.0  0.070340\n",
       "6             Rhode Island                      4.0  0.093787\n",
       "34            District of Columbia              4.0  0.093787\n",
       "69            Hawaii                            5.0  0.117233\n",
       "41            West Virginia                     7.0  0.164127\n",
       "7             Vermont                           8.0  0.187573\n",
       "51            Louisiana                         8.0  0.187573\n",
       "62            New Mexico                        9.0  0.211020"
      ]
     },
     "execution_count": 8,
     "metadata": {},
     "output_type": "execute_result"
    }
   ],
   "source": [
    "bottom_states = df.sort_values(by='Total').head(10)\n",
    "bottom_states\n"
   ]
  },
  {
   "cell_type": "code",
   "execution_count": 9,
   "id": "da9a15be-0eba-4c39-81d2-a61b2ccd71bc",
   "metadata": {},
   "outputs": [
    {
     "data": {
      "image/png": "[encoded data removed]",
      "text/plain": [
       "<Figure size 1000x600 with 1 Axes>"
      ]
     },
     "metadata": {},
     "output_type": "display_data"
    }
   ],
   "source": [
    "plt.figure(figsize=(10, 6))\n",
    "plt.bar(bottom_states['State'], bottom_states['Total'])\n",
    "plt.title(\"Bottom 10 States by Building Permits (March 2025)\")\n",
    "plt.xlabel(\"State\")\n",
    "plt.ylabel(\"Units Permitted\")\n",
    "plt.xticks(rotation=45)\n",
    "plt.tight_layout()\n",
    "plt.show()\n"
   ]
  },
  {
   "cell_type": "code",
   "execution_count": 10,
   "id": "5d8d70ff-b518-4e8a-96e4-94ee4083698d",
   "metadata": {},
   "outputs": [
    {
     "name": "stdout",
     "output_type": "stream",
     "text": [
      "✅ Data exported to 'march_2025_permit_insights.csv'\n"
     ]
    }
   ],
   "source": [
    "df.to_csv(\"march_2025_permit_insights.csv\", index=False)\n",
    "print(\"✅ Data exported to 'march_2025_permit_insights.csv'\")\n"
   ]
  },
  {
   "cell_type": "markdown",
   "id": "cdd2227d-cedd-4df3-acbe-eb5e7e940e62",
   "metadata": {},
   "source": [
    "## 🧾 Summary & Insights\n",
    "\n",
    "This analysis of March 2025 building permit data reveals key trends in residential construction activity across the U.S.:\n",
    "\n",
    "- 🏆 **Top-performing states** like Texas, Florida, and California accounted for a significant share of national permits, signaling strong housing demand and development.\n",
    "- 💤 **Bottom 10 states** issued significantly fewer permits, which may reflect population trends, seasonal effects, or local economic conditions.\n",
    "- 📊 **State-level share of total permits** provides a useful benchmark for comparing construction intensity.\n",
    "\n",
    "### 🔍 Business Relevance\n",
    "For a commercial real estate data platform like **LightBox**, this type of analysis helps:\n",
    "- Identify hot zones for investment, construction, or lending\n",
    "- Benchmark growth across regions\n",
    "- Power dashboards for clients such as developers, banks, and REITs\n",
    "\n",
    "---\n",
    "\n",
    "_This notebook can be extended by analyzing trends across multiple months or merging with real estate prices, demographics, or zoning datasets for deeper insight._\n"
   ]
  },
  {
   "cell_type": "code",
   "execution_count": null,
   "id": "8b054201-e4d8-4860-9988-a8fa28c52f5d",
   "metadata": {},
   "outputs": [],
   "source": []
  }
 ],
 "metadata": {
  "kernelspec": {
   "display_name": "Python (lightbox-env)",
   "language": "python",
   "name": "lightbox-env"
  },
  "language_info": {
   "codemirror_mode": {
    "name": "ipython",
    "version": 3
   },
   "file_extension": ".py",
   "mimetype": "text/x-python",
   "name": "python",
   "nbconvert_exporter": "python",
   "pygments_lexer": "ipython3",
   "version": "3.10.16"
  }
 },
 "nbformat": 4,
 "nbformat_minor": 5
}
